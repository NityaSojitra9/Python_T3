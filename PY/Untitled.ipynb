{
 "cells": [
  {
   "cell_type": "code",
   "execution_count": 2,
   "metadata": {},
   "outputs": [],
   "source": [
    "#ch-7\n",
    "#1.Socket(3-mark)TCP server TCP server UDP server UDP client\n",
    "#2.API(3-mark)Geocode API,Current weather data,Current air data\n",
    "#3.BS-4(9-mark(Boooootyfull Soup-100%))\n",
    "\n",
    "#ch-8\n",
    "#1.DL(3/6-mark)\n",
    "\n",
    "\n",
    "#3-Mark\n",
    "\n",
    "#TCP server\n",
    "#TCP client\n",
    "#UDP server\n",
    "#UDP client\n",
    "#Geocode API\n",
    "#Current weather data\n",
    "#Current air data\n",
    "\n",
    "#3-Mark\n",
    "#Deep Learing given by sir\n",
    "\n",
    "#9-Mark\n",
    "#Boooooootyfull Soup"
   ]
  },
  {
   "cell_type": "code",
   "execution_count": 2,
   "metadata": {},
   "outputs": [],
   "source": [
    "import socket"
   ]
  },
  {
   "cell_type": "code",
   "execution_count": 3,
   "metadata": {},
   "outputs": [
    {
     "data": {
      "text/plain": [
       "'407-14'"
      ]
     },
     "execution_count": 3,
     "metadata": {},
     "output_type": "execute_result"
    }
   ],
   "source": [
    "socket.gethostname()"
   ]
  },
  {
   "cell_type": "code",
   "execution_count": 4,
   "metadata": {},
   "outputs": [
    {
     "data": {
      "text/plain": [
       "'192.168.107.14'"
      ]
     },
     "execution_count": 4,
     "metadata": {},
     "output_type": "execute_result"
    }
   ],
   "source": [
    "socket.gethostbyname(socket.gethostname())#To find host(ip)"
   ]
  },
  {
   "cell_type": "code",
   "execution_count": 5,
   "metadata": {},
   "outputs": [],
   "source": [
    "#TCP Server"
   ]
  },
  {
   "cell_type": "code",
   "execution_count": 6,
   "metadata": {},
   "outputs": [
    {
     "name": "stdout",
     "output_type": "stream",
     "text": [
      "Overwriting server.py\n"
     ]
    }
   ],
   "source": [
    "%%writefile server.py\n",
    "import socket \n",
    "host=socket.gethostname()\n",
    "port=7000\n",
    "server=socket.socket()\n",
    "server.bind((host,port))\n",
    "server.listen()\n",
    "conn,add=server.accept()\n",
    "print(\"client add\",add)\n",
    "while True:\n",
    "    data=conn.recv(1024).decode()\n",
    "    print(data)\n",
    "    if not data:\n",
    "        break\n",
    "    data=input(\"stop\")\n",
    "    conn.send(data.encode())\n",
    "conn.close()"
   ]
  },
  {
   "cell_type": "code",
   "execution_count": 7,
   "metadata": {},
   "outputs": [],
   "source": [
    "#TCP Client"
   ]
  },
  {
   "cell_type": "code",
   "execution_count": 8,
   "metadata": {},
   "outputs": [
    {
     "name": "stdout",
     "output_type": "stream",
     "text": [
      "Overwriting client.py\n"
     ]
    }
   ],
   "source": [
    "%%writefile client.py\n",
    "import socket \n",
    "host=socket.gethostname()\n",
    "port=7000\n",
    "client=socket.socket()\n",
    "client.connect((host,port))\n",
    "msg=input(\"HIIII\")\n",
    "while msg.lower()!='bye':\n",
    "    client.send(msg.encode())\n",
    "    data=client.recv(1024).decode()\n",
    "    print(data)\n",
    "    msg=input(\"405\")\n",
    "client.close()"
   ]
  },
  {
   "cell_type": "code",
   "execution_count": 9,
   "metadata": {},
   "outputs": [],
   "source": [
    "#File Transfer Code\n",
    "#First run server then connect with client."
   ]
  },
  {
   "cell_type": "code",
   "execution_count": 10,
   "metadata": {},
   "outputs": [
    {
     "name": "stdout",
     "output_type": "stream",
     "text": [
      "Overwriting ipynbserver.py\n"
     ]
    }
   ],
   "source": [
    "%%writefile ipynbserver.py\n",
    "import socket\n",
    "HOST = '0.0.0.0'\n",
    "PORT = 65432\n",
    "with socket.socket(socket.AF_INET, socket.SOCK_STREAM) as s:\n",
    "    s.bind((HOST, PORT))\n",
    "    s.listen()\n",
    "    print(f\"Server listening on port {PORT}...\")\n",
    "    conn, addr = s.accept()\n",
    "    with conn:\n",
    "        print(f\"Connected by {addr}\")\n",
    "        with open(\"received_notebook.ipynb\", \"wb\") as f:\n",
    "             while True:\n",
    "                data = conn.recv(4096)\n",
    "                if not data:\n",
    "                         break\n",
    "                f.write(data)\n",
    "    print(\"Notebook file received and saved as 'received_notebook.ipynb'.\")"
   ]
  },
  {
   "cell_type": "code",
   "execution_count": 11,
   "metadata": {},
   "outputs": [
    {
     "name": "stdout",
     "output_type": "stream",
     "text": [
      "Overwriting ipynbclient.py\n"
     ]
    }
   ],
   "source": [
    "%%writefile ipynbclient.py\n",
    "import socket\n",
    "HOST = 'localhost'\n",
    "PORT = 7002\n",
    "with socket.socket(socket.AF_INET, socket.SOCK_STREAM) as s:\n",
    "    s.connect((HOST, PORT))\n",
    "    with open(\"Transfer.ipynb\", \"rb\") as f:\n",
    "        s.sendfile(f)\n",
    "    print(\"Notebook file sent successfully.\")"
   ]
  },
  {
   "cell_type": "code",
   "execution_count": 12,
   "metadata": {},
   "outputs": [],
   "source": [
    "###########################################################################################################################"
   ]
  },
  {
   "cell_type": "code",
   "execution_count": null,
   "metadata": {},
   "outputs": [],
   "source": []
  }
 ],
 "metadata": {
  "kernelspec": {
   "display_name": "Python 3",
   "language": "python",
   "name": "python3"
  },
  "language_info": {
   "codemirror_mode": {
    "name": "ipython",
    "version": 3
   },
   "file_extension": ".py",
   "mimetype": "text/x-python",
   "name": "python",
   "nbconvert_exporter": "python",
   "pygments_lexer": "ipython3",
   "version": "3.8.5"
  }
 },
 "nbformat": 4,
 "nbformat_minor": 4
}
